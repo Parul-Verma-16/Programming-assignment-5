{
 "cells": [
  {
   "cell_type": "markdown",
   "id": "7ad0d115",
   "metadata": {},
   "source": [
    "## 1) Write a Python Program to Find LCM?\n"
   ]
  },
  {
   "cell_type": "code",
   "execution_count": 1,
   "id": "141e304b",
   "metadata": {},
   "outputs": [
    {
     "name": "stdout",
     "output_type": "stream",
     "text": [
      "Enter the first number: 3\n",
      "Enter the second number: 56\n",
      "The LCM of 3 and 56 is: 168\n"
     ]
    }
   ],
   "source": [
    "def find_lcm(x, y):\n",
    "    # Find the maximum of the two numbers\n",
    "    maximum = max(x, y)\n",
    "\n",
    "    # Initialize the LCM to the maximum value\n",
    "    lcm = maximum\n",
    "\n",
    "    while True:\n",
    "        # Check if the current LCM is divisible by both numbers\n",
    "        if lcm % x == 0 and lcm % y == 0:\n",
    "            break\n",
    "        # If not divisible, increment the LCM by the maximum value\n",
    "        lcm += maximum\n",
    "\n",
    "    return lcm\n",
    "\n",
    "\n",
    "# Test the find_lcm function\n",
    "num1 = int(input(\"Enter the first number: \"))\n",
    "num2 = int(input(\"Enter the second number: \"))\n",
    "\n",
    "result = find_lcm(num1, num2)\n",
    "print(\"The LCM of\", num1, \"and\", num2, \"is:\", result)"
   ]
  },
  {
   "cell_type": "markdown",
   "id": "5959bfc3",
   "metadata": {},
   "source": [
    "## 2) Write a Python Program to Find HCF?"
   ]
  },
  {
   "cell_type": "code",
   "execution_count": 2,
   "id": "285f5570",
   "metadata": {},
   "outputs": [
    {
     "name": "stdout",
     "output_type": "stream",
     "text": [
      "Enter the first number: 3\n",
      "Enter the second number: 15\n",
      "The HCF of 3 and 15 is: 3\n"
     ]
    }
   ],
   "source": [
    "def find_hcf(x, y):\n",
    "    # Find the minimum of the two numbers\n",
    "    minimum = min(x, y)\n",
    "\n",
    "    # Initialize the HCF to 1\n",
    "    hcf = 1\n",
    "\n",
    "    for i in range(1, minimum + 1):\n",
    "        # Check if both numbers are divisible by i\n",
    "        if x % i == 0 and y % i == 0:\n",
    "            hcf = i\n",
    "\n",
    "    return hcf\n",
    "\n",
    "\n",
    "# Test the find_hcf function\n",
    "num1 = int(input(\"Enter the first number: \"))\n",
    "num2 = int(input(\"Enter the second number: \"))\n",
    "\n",
    "result = find_hcf(num1, num2)\n",
    "print(\"The HCF of\", num1, \"and\", num2, \"is:\", result)"
   ]
  },
  {
   "cell_type": "markdown",
   "id": "e2778a75",
   "metadata": {},
   "source": [
    "## 3) Write a Python Program to Convert Decimal to Binary, Octal and Hexadecimal?"
   ]
  },
  {
   "cell_type": "code",
   "execution_count": 3,
   "id": "093de60c",
   "metadata": {},
   "outputs": [
    {
     "name": "stdout",
     "output_type": "stream",
     "text": [
      "Enter a decimal number: 20\n",
      "Binary representation: 10100\n",
      "Octal representation: 24\n",
      "Hexadecimal representation: 14\n"
     ]
    }
   ],
   "source": [
    "def decimal_to_binary(decimal_num):\n",
    "    binary_num = bin(decimal_num).replace(\"0b\", \"\")\n",
    "    return binary_num\n",
    "\n",
    "\n",
    "def decimal_to_octal(decimal_num):\n",
    "    octal_num = oct(decimal_num).replace(\"0o\", \"\")\n",
    "    return octal_num\n",
    "\n",
    "\n",
    "def decimal_to_hexadecimal(decimal_num):\n",
    "    hexadecimal_num = hex(decimal_num).replace(\"0x\", \"\")\n",
    "    return hexadecimal_num\n",
    "\n",
    "\n",
    "# Test the decimal to binary, octal, and hexadecimal conversion functions\n",
    "decimal_number = int(input(\"Enter a decimal number: \"))\n",
    "\n",
    "binary = decimal_to_binary(decimal_number)\n",
    "print(\"Binary representation:\", binary)\n",
    "\n",
    "octal = decimal_to_octal(decimal_number)\n",
    "print(\"Octal representation:\", octal)\n",
    "\n",
    "hexadecimal = decimal_to_hexadecimal(decimal_number)\n",
    "print(\"Hexadecimal representation:\", hexadecimal)"
   ]
  },
  {
   "cell_type": "markdown",
   "id": "18dcd6f5",
   "metadata": {},
   "source": [
    "## 4) Write a Python Program To Find ASCII value of a character?"
   ]
  },
  {
   "cell_type": "code",
   "execution_count": 6,
   "id": "4b5a83ff",
   "metadata": {},
   "outputs": [
    {
     "name": "stdout",
     "output_type": "stream",
     "text": [
      "Enter a character: r\n",
      "The ASCII value of r is 114\n"
     ]
    }
   ],
   "source": [
    "character = input(\"Enter a character: \")\n",
    "\n",
    "ascii_value = ord(character)\n",
    "\n",
    "print(\"The ASCII value of\", character, \"is\", ascii_value)"
   ]
  },
  {
   "cell_type": "markdown",
   "id": "c7123ffb",
   "metadata": {},
   "source": [
    "## 5) Write a Python Program to Make a Simple Calculator with 4 basic mathematical operations?"
   ]
  },
  {
   "cell_type": "code",
   "execution_count": 7,
   "id": "e87c1d01",
   "metadata": {},
   "outputs": [
    {
     "name": "stdout",
     "output_type": "stream",
     "text": [
      "Simple Calculator\n",
      "Select operation:\n",
      "1. Addition\n",
      "2. Subtraction\n",
      "3. Multiplication\n",
      "4. Division\n",
      "Enter your choice (1/2/3/4): 3\n",
      "Enter the first number: 5\n",
      "Enter the second number: 8\n",
      "Result: 5.0 * 8.0 = 40.0\n"
     ]
    }
   ],
   "source": [
    "def add(x, y):\n",
    "    return x + y\n",
    "\n",
    "def subtract(x, y):\n",
    "    return x - y\n",
    "\n",
    "def multiply(x, y):\n",
    "    return x * y\n",
    "\n",
    "def divide(x, y):\n",
    "    return x / y\n",
    "\n",
    "print(\"Simple Calculator\")\n",
    "print(\"Select operation:\")\n",
    "print(\"1. Addition\")\n",
    "print(\"2. Subtraction\")\n",
    "print(\"3. Multiplication\")\n",
    "print(\"4. Division\")\n",
    "\n",
    "choice = input(\"Enter your choice (1/2/3/4): \")\n",
    "\n",
    "num1 = float(input(\"Enter the first number: \"))\n",
    "num2 = float(input(\"Enter the second number: \"))\n",
    "\n",
    "if choice == '1':\n",
    "    result = add(num1, num2)\n",
    "    operation = \"+\"\n",
    "elif choice == '2':\n",
    "    result = subtract(num1, num2)\n",
    "    operation = \"-\"\n",
    "elif choice == '3':\n",
    "    result = multiply(num1, num2)\n",
    "    operation = \"*\"\n",
    "elif choice == '4':\n",
    "    result = divide(num1, num2)\n",
    "    operation = \"/\"\n",
    "else:\n",
    "    print(\"Invalid choice!\")\n",
    "    exit(1)\n",
    "\n",
    "print(\"Result: {} {} {} = {}\".format(num1, operation, num2, result))"
   ]
  }
 ],
 "metadata": {
  "kernelspec": {
   "display_name": "Python 3 (ipykernel)",
   "language": "python",
   "name": "python3"
  },
  "language_info": {
   "codemirror_mode": {
    "name": "ipython",
    "version": 3
   },
   "file_extension": ".py",
   "mimetype": "text/x-python",
   "name": "python",
   "nbconvert_exporter": "python",
   "pygments_lexer": "ipython3",
   "version": "3.9.13"
  }
 },
 "nbformat": 4,
 "nbformat_minor": 5
}
